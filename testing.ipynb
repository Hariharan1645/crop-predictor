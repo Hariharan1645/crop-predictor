{
 "cells": [
  {
   "cell_type": "code",
   "execution_count": 3,
   "metadata": {},
   "outputs": [],
   "source": [
    "import pandas as pd\n",
    "import numpy as np"
   ]
  },
  {
   "cell_type": "code",
   "execution_count": 7,
   "metadata": {},
   "outputs": [],
   "source": [
    "import joblib"
   ]
  },
  {
   "cell_type": "code",
   "execution_count": 8,
   "metadata": {},
   "outputs": [
    {
     "name": "stderr",
     "output_type": "stream",
     "text": [
      "c:\\Users\\Shreeya Shreenivas\\AppData\\Local\\Programs\\Python\\Python312\\Lib\\site-packages\\sklearn\\base.py:348: InconsistentVersionWarning: Trying to unpickle estimator DecisionTreeClassifier from version 1.6.1 when using version 1.3.2. This might lead to breaking code or invalid results. Use at your own risk. For more info please refer to:\n",
      "https://scikit-learn.org/stable/model_persistence.html#security-maintainability-limitations\n",
      "  warnings.warn(\n",
      "c:\\Users\\Shreeya Shreenivas\\AppData\\Local\\Programs\\Python\\Python312\\Lib\\site-packages\\sklearn\\base.py:348: InconsistentVersionWarning: Trying to unpickle estimator RandomForestClassifier from version 1.6.1 when using version 1.3.2. This might lead to breaking code or invalid results. Use at your own risk. For more info please refer to:\n",
      "https://scikit-learn.org/stable/model_persistence.html#security-maintainability-limitations\n",
      "  warnings.warn(\n",
      "c:\\Users\\Shreeya Shreenivas\\AppData\\Local\\Programs\\Python\\Python312\\Lib\\site-packages\\sklearn\\base.py:348: InconsistentVersionWarning: Trying to unpickle estimator StandardScaler from version 1.6.1 when using version 1.3.2. This might lead to breaking code or invalid results. Use at your own risk. For more info please refer to:\n",
      "https://scikit-learn.org/stable/model_persistence.html#security-maintainability-limitations\n",
      "  warnings.warn(\n"
     ]
    }
   ],
   "source": [
    "rf_model = joblib.load('rf_model.pkl')\n",
    "scaler = joblib.load('scaler.pkl')"
   ]
  },
  {
   "cell_type": "code",
   "execution_count": 4,
   "metadata": {},
   "outputs": [
    {
     "data": {
      "text/html": [
       "<div>\n",
       "<style scoped>\n",
       "    .dataframe tbody tr th:only-of-type {\n",
       "        vertical-align: middle;\n",
       "    }\n",
       "\n",
       "    .dataframe tbody tr th {\n",
       "        vertical-align: top;\n",
       "    }\n",
       "\n",
       "    .dataframe thead th {\n",
       "        text-align: right;\n",
       "    }\n",
       "</style>\n",
       "<table border=\"1\" class=\"dataframe\">\n",
       "  <thead>\n",
       "    <tr style=\"text-align: right;\">\n",
       "      <th></th>\n",
       "      <th>Unnamed: 0.1</th>\n",
       "      <th>Dist Name</th>\n",
       "      <th>January</th>\n",
       "      <th>February</th>\n",
       "      <th>March</th>\n",
       "      <th>April</th>\n",
       "      <th>May</th>\n",
       "      <th>June</th>\n",
       "      <th>July</th>\n",
       "      <th>August</th>\n",
       "      <th>...</th>\n",
       "      <th>October</th>\n",
       "      <th>November</th>\n",
       "      <th>December</th>\n",
       "      <th>Unnamed: 0</th>\n",
       "      <th>STATE/UT</th>\n",
       "      <th>DISTRICT</th>\n",
       "      <th>avg kharif</th>\n",
       "      <th>avg rabi</th>\n",
       "      <th>summer avg</th>\n",
       "      <th>whole year avg</th>\n",
       "    </tr>\n",
       "  </thead>\n",
       "  <tbody>\n",
       "    <tr>\n",
       "      <th>0</th>\n",
       "      <td>0</td>\n",
       "      <td>SRIKAKULAM</td>\n",
       "      <td>25.610000</td>\n",
       "      <td>27.005</td>\n",
       "      <td>29.580000</td>\n",
       "      <td>30.825</td>\n",
       "      <td>34.595000</td>\n",
       "      <td>33.925</td>\n",
       "      <td>30.165</td>\n",
       "      <td>32.475</td>\n",
       "      <td>...</td>\n",
       "      <td>30.615</td>\n",
       "      <td>27.710000</td>\n",
       "      <td>24.545</td>\n",
       "      <td>543</td>\n",
       "      <td>ANDHRA PRADESH</td>\n",
       "      <td>SRIKAKULAM</td>\n",
       "      <td>191.42</td>\n",
       "      <td>50.800000</td>\n",
       "      <td>63.100</td>\n",
       "      <td>97.100000</td>\n",
       "    </tr>\n",
       "    <tr>\n",
       "      <th>1</th>\n",
       "      <td>1</td>\n",
       "      <td>VISAKHAPATNAM</td>\n",
       "      <td>22.457269</td>\n",
       "      <td>24.835</td>\n",
       "      <td>28.220000</td>\n",
       "      <td>29.755</td>\n",
       "      <td>31.365000</td>\n",
       "      <td>31.305</td>\n",
       "      <td>27.140</td>\n",
       "      <td>29.435</td>\n",
       "      <td>...</td>\n",
       "      <td>27.155</td>\n",
       "      <td>23.630000</td>\n",
       "      <td>23.805</td>\n",
       "      <td>544</td>\n",
       "      <td>ANDHRA PRADESH</td>\n",
       "      <td>VISAKHAPATNAM</td>\n",
       "      <td>175.74</td>\n",
       "      <td>49.957143</td>\n",
       "      <td>72.875</td>\n",
       "      <td>93.391667</td>\n",
       "    </tr>\n",
       "    <tr>\n",
       "      <th>2</th>\n",
       "      <td>2</td>\n",
       "      <td>EAST GODAVARI</td>\n",
       "      <td>25.165000</td>\n",
       "      <td>26.470</td>\n",
       "      <td>31.115000</td>\n",
       "      <td>31.590</td>\n",
       "      <td>34.435000</td>\n",
       "      <td>32.900</td>\n",
       "      <td>30.965</td>\n",
       "      <td>30.055</td>\n",
       "      <td>...</td>\n",
       "      <td>29.760</td>\n",
       "      <td>28.155000</td>\n",
       "      <td>24.810</td>\n",
       "      <td>537</td>\n",
       "      <td>ANDHRA PRADESH</td>\n",
       "      <td>EAST GODAVARI</td>\n",
       "      <td>180.58</td>\n",
       "      <td>46.685714</td>\n",
       "      <td>60.325</td>\n",
       "      <td>92.166667</td>\n",
       "    </tr>\n",
       "    <tr>\n",
       "      <th>3</th>\n",
       "      <td>3</td>\n",
       "      <td>WEST GODAVARI</td>\n",
       "      <td>24.555000</td>\n",
       "      <td>28.815</td>\n",
       "      <td>27.472238</td>\n",
       "      <td>32.410</td>\n",
       "      <td>35.615000</td>\n",
       "      <td>33.970</td>\n",
       "      <td>32.440</td>\n",
       "      <td>31.830</td>\n",
       "      <td>...</td>\n",
       "      <td>29.640</td>\n",
       "      <td>28.010000</td>\n",
       "      <td>27.390</td>\n",
       "      <td>538</td>\n",
       "      <td>ANDHRA PRADESH</td>\n",
       "      <td>WEST GODAVARI</td>\n",
       "      <td>196.34</td>\n",
       "      <td>45.814286</td>\n",
       "      <td>54.825</td>\n",
       "      <td>96.700000</td>\n",
       "    </tr>\n",
       "    <tr>\n",
       "      <th>4</th>\n",
       "      <td>4</td>\n",
       "      <td>KRISHNA</td>\n",
       "      <td>23.733728</td>\n",
       "      <td>28.570</td>\n",
       "      <td>31.485000</td>\n",
       "      <td>33.180</td>\n",
       "      <td>36.561499</td>\n",
       "      <td>32.810</td>\n",
       "      <td>32.625</td>\n",
       "      <td>31.085</td>\n",
       "      <td>...</td>\n",
       "      <td>30.845</td>\n",
       "      <td>26.987848</td>\n",
       "      <td>26.320</td>\n",
       "      <td>540</td>\n",
       "      <td>ANDHRA PRADESH</td>\n",
       "      <td>KRISHNA</td>\n",
       "      <td>173.12</td>\n",
       "      <td>39.842857</td>\n",
       "      <td>48.325</td>\n",
       "      <td>85.591667</td>\n",
       "    </tr>\n",
       "  </tbody>\n",
       "</table>\n",
       "<p>5 rows × 21 columns</p>\n",
       "</div>"
      ],
      "text/plain": [
       "   Unnamed: 0.1      Dist Name    January  February      March   April  \\\n",
       "0             0     SRIKAKULAM  25.610000    27.005  29.580000  30.825   \n",
       "1             1  VISAKHAPATNAM  22.457269    24.835  28.220000  29.755   \n",
       "2             2  EAST GODAVARI  25.165000    26.470  31.115000  31.590   \n",
       "3             3  WEST GODAVARI  24.555000    28.815  27.472238  32.410   \n",
       "4             4        KRISHNA  23.733728    28.570  31.485000  33.180   \n",
       "\n",
       "         May    June    July  August  ...  October   November  December  \\\n",
       "0  34.595000  33.925  30.165  32.475  ...   30.615  27.710000    24.545   \n",
       "1  31.365000  31.305  27.140  29.435  ...   27.155  23.630000    23.805   \n",
       "2  34.435000  32.900  30.965  30.055  ...   29.760  28.155000    24.810   \n",
       "3  35.615000  33.970  32.440  31.830  ...   29.640  28.010000    27.390   \n",
       "4  36.561499  32.810  32.625  31.085  ...   30.845  26.987848    26.320   \n",
       "\n",
       "   Unnamed: 0        STATE/UT       DISTRICT avg kharif   avg rabi  \\\n",
       "0         543  ANDHRA PRADESH     SRIKAKULAM     191.42  50.800000   \n",
       "1         544  ANDHRA PRADESH  VISAKHAPATNAM     175.74  49.957143   \n",
       "2         537  ANDHRA PRADESH  EAST GODAVARI     180.58  46.685714   \n",
       "3         538  ANDHRA PRADESH  WEST GODAVARI     196.34  45.814286   \n",
       "4         540  ANDHRA PRADESH        KRISHNA     173.12  39.842857   \n",
       "\n",
       "   summer avg  whole year avg  \n",
       "0      63.100       97.100000  \n",
       "1      72.875       93.391667  \n",
       "2      60.325       92.166667  \n",
       "3      54.825       96.700000  \n",
       "4      48.325       85.591667  \n",
       "\n",
       "[5 rows x 21 columns]"
      ]
     },
     "execution_count": 4,
     "metadata": {},
     "output_type": "execute_result"
    }
   ],
   "source": [
    "data = pd.read_csv('merged.csv')\n",
    "data.head()"
   ]
  },
  {
   "cell_type": "code",
   "execution_count": 5,
   "metadata": {},
   "outputs": [
    {
     "name": "stdout",
     "output_type": "stream",
     "text": [
      "        May\n",
      "126  36.895\n"
     ]
    }
   ],
   "source": [
    "district = 'BULDHANA'\n",
    "month = 'May'\n",
    "season ='kharif'\n",
    "\n",
    "temp = data[data['DISTRICT'] == district][['May']]\n",
    "print(temp)"
   ]
  },
  {
   "cell_type": "code",
   "execution_count": 6,
   "metadata": {},
   "outputs": [
    {
     "name": "stdout",
     "output_type": "stream",
     "text": [
      "     avg kharif\n",
      "126      139.86\n"
     ]
    }
   ],
   "source": [
    "rain = data[data['DISTRICT'] == district][['avg kharif']]\n",
    "print(rain)"
   ]
  },
  {
   "cell_type": "code",
   "execution_count": 12,
   "metadata": {},
   "outputs": [
    {
     "name": "stdout",
     "output_type": "stream",
     "text": [
      "Class: 34, Probability: 0.23\n",
      "Class: 48, Probability: 0.16\n",
      "Class: 14, Probability: 0.14\n"
     ]
    },
    {
     "name": "stderr",
     "output_type": "stream",
     "text": [
      "c:\\Users\\Shreeya Shreenivas\\AppData\\Local\\Programs\\Python\\Python312\\Lib\\site-packages\\sklearn\\base.py:465: UserWarning: X does not have valid feature names, but StandardScaler was fitted with feature names\n",
      "  warnings.warn(\n",
      "c:\\Users\\Shreeya Shreenivas\\AppData\\Local\\Programs\\Python\\Python312\\Lib\\site-packages\\sklearn\\base.py:465: UserWarning: X does not have valid feature names, but RandomForestClassifier was fitted with feature names\n",
      "  warnings.warn(\n"
     ]
    }
   ],
   "source": [
    "sp = [5000, 40,50,60,2, 560, 25, 6.0]\n",
    "sp = np.array(sp).reshape(1, -1)\n",
    "\n",
    "sp = scaler.transform(sp)\n",
    "prob = rf_model.predict_proba(sp)\n",
    "\n",
    "top_n = 3\n",
    "top_n_indices = np.argsort(prob[0])[-top_n:][::-1]\n",
    "top_n_classes = [rf_model.classes_[i] for i in top_n_indices]\n",
    "top_n_probs = prob[0][top_n_indices]\n",
    "for i in range(top_n):\n",
    "    print(f\"Class: {top_n_classes[i]}, Probability: {top_n_probs[i]:.2f}\")"
   ]
  },
  {
   "cell_type": "code",
   "execution_count": 16,
   "metadata": {},
   "outputs": [
    {
     "name": "stdout",
     "output_type": "stream",
     "text": [
      "3\n"
     ]
    }
   ],
   "source": [
    "season = 'Whole Year'\n",
    "season_index =  {\n",
    "        'Kharif': 0,\n",
    "        'Rabi': 1,\n",
    "        'Summer': 2,\n",
    "        'Whole Year': 3\n",
    "        }\n",
    "season_value = season_index.get(season, -1)\n",
    "print(season_value)"
   ]
  }
 ],
 "metadata": {
  "kernelspec": {
   "display_name": "Python 3",
   "language": "python",
   "name": "python3"
  },
  "language_info": {
   "codemirror_mode": {
    "name": "ipython",
    "version": 3
   },
   "file_extension": ".py",
   "mimetype": "text/x-python",
   "name": "python",
   "nbconvert_exporter": "python",
   "pygments_lexer": "ipython3",
   "version": "3.12.1"
  }
 },
 "nbformat": 4,
 "nbformat_minor": 2
}
